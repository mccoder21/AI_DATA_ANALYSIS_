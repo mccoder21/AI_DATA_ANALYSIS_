{
 "cells": [
  {
   "cell_type": "code",
   "execution_count": null,
   "metadata": {},
   "outputs": [],
   "source": [
    "import seaborn as sns\n",
    "import matplotlib.pyplot as plt\n",
    "\n",
    "# Load the Iris dataset\n",
    "iris = sns.load_dataset('iris')\n",
    "\n",
    "# Create the customized boxplot\n",
    "sns.set(style=\"whitegrid\")  # Set a clean style\n",
    "plt.figure(figsize=(8, 6))  # Set figure size\n",
    "sns.boxplot(x='species', y='petal_length', data=iris, palette='Set2')\n",
    "\n",
    "plt.title('Distribution of Petal Lengths by Species', fontsize=14)\n",
    "plt.xlabel('Species', fontsize=12)\n",
    "plt.ylabel('Petal Length (cm)', fontsize=12)\n",
    "plt.show()"
   ]
  }
 ],
 "metadata": {
  "kernelspec": {
   "display_name": "Python 3",
   "language": "python",
   "name": "python3"
  },
  "language_info": {
   "codemirror_mode": {
    "name": "ipython",
    "version": 3
   },
   "file_extension": ".py",
   "mimetype": "text/x-python",
   "name": "python",
   "nbconvert_exporter": "python",
   "pygments_lexer": "ipython3",
   "version": "3.10.12"
  }
 },
 "nbformat": 4,
 "nbformat_minor": 2
}
