{
 "cells": [
  {
   "cell_type": "code",
   "execution_count": 1,
   "metadata": {},
   "outputs": [
    {
     "name": "stdout",
     "output_type": "stream",
     "text": [
      "Mean of each feature: [5.84333333 3.05733333 3.758      1.19933333]\n",
      "Standard deviation of each feature: [0.82530129 0.43441097 1.75940407 0.75969263]\n",
      "Minimum values of each feature: [4.3 2.  1.  0.1]\n",
      "Maximum values of each feature: [7.9 4.4 6.9 2.5]\n",
      "Shape of the dataset: (150, 4)\n"
     ]
    }
   ],
   "source": [
    "# Title: Basic NumPy Operations\n",
    "# Description: Perform basic operations such as calculating the mean of the dataset.\n",
    "import numpy as np\n",
    "from sklearn.datasets import load_iris\n",
    "# Load Iris dataset\n",
    "iris = load_iris()\n",
    "data = iris.data  # Only the features, not the target\n",
    "# Convert to NumPy array (if not already)\n",
    "data_np = np.array(data)\n",
    "\n",
    "# Mean of each feature (column-wise)\n",
    "mean_vals = np.mean(data_np, axis=0)\n",
    "print(\"Mean of each feature:\", mean_vals)\n",
    "\n",
    "# Standard deviation\n",
    "std_vals = np.std(data_np, axis=0)\n",
    "print(\"Standard deviation of each feature:\", std_vals)\n",
    "\n",
    "# Minimum values\n",
    "min_vals = np.min(data_np, axis=0)\n",
    "print(\"Minimum values of each feature:\", min_vals)\n",
    "\n",
    "# Maximum values\n",
    "max_vals = np.max(data_np, axis=0)\n",
    "print(\"Maximum values of each feature:\", max_vals)\n",
    "\n",
    "# Shape of the dataset\n",
    "print(\"Shape of the dataset:\", data_np.shape)"
   ]
  }
 ],
 "metadata": {
  "kernelspec": {
   "display_name": "Python 3",
   "language": "python",
   "name": "python3"
  },
  "language_info": {
   "codemirror_mode": {
    "name": "ipython",
    "version": 3
   },
   "file_extension": ".py",
   "mimetype": "text/x-python",
   "name": "python",
   "nbconvert_exporter": "python",
   "pygments_lexer": "ipython3",
   "version": "3.10.12"
  }
 },
 "nbformat": 4,
 "nbformat_minor": 2
}
