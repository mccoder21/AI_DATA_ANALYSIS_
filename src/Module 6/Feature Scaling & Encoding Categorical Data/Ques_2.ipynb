{
 "cells": [
  {
   "cell_type": "code",
   "execution_count": 1,
   "metadata": {},
   "outputs": [
    {
     "name": "stdout",
     "output_type": "stream",
     "text": [
      "      Sex  Sex_LabelEncoded  Sex_female\n",
      "0    male                 1         0.0\n",
      "1  female                 0         1.0\n",
      "2  female                 0         1.0\n",
      "3  female                 0         1.0\n",
      "4    male                 1         0.0\n"
     ]
    }
   ],
   "source": [
    "import pandas as pd\n",
    "from sklearn.preprocessing import LabelEncoder, OneHotEncoder\n",
    "\n",
    "def encode_label(df, column_name):\n",
    "    \"\"\"Encode a categorical column using LabelEncoder.\"\"\"\n",
    "    if df[column_name].nunique() > 1:  # Check if there are multiple unique values\n",
    "        encoder = LabelEncoder()\n",
    "        df[column_name + '_LabelEncoded'] = encoder.fit_transform(df[column_name])\n",
    "    else:\n",
    "        print(f\"Column '{column_name}' has only one unique value, skipping Label Encoding.\")\n",
    "    return df\n",
    "\n",
    "def encode_one_hot(df, column_name):\n",
    "    \"\"\"Apply OneHotEncoding to a categorical column.\"\"\"\n",
    "    encoder = OneHotEncoder(sparse_output=False)\n",
    "    encoded_data = encoder.fit_transform(df[[column_name]])\n",
    "    encoded_df = pd.DataFrame(encoded_data, columns=encoder.get_feature_names_out([column_name]))\n",
    "    df = pd.concat([df, encoded_df], axis=1)\n",
    "    return df\n",
    "\n",
    "# Example usage\n",
    "data = {\n",
    "    'PassengerId': [1, 2, 3, 4, 5],\n",
    "    'Sex': ['male', 'female', 'female', 'female', 'male'],\n",
    "    'Age': [22, 38, 26, 35, 35]\n",
    "}\n",
    "\n",
    "titanic_df = pd.DataFrame(data)\n",
    "\n",
    "# Apply Label Encoding\n",
    "titanic_df = encode_label(titanic_df, 'Sex')\n",
    "\n",
    "# Apply One-Hot Encoding\n",
    "titanic_df = encode_one_hot(titanic_df, 'Sex')\n",
    "\n",
    "# Display final DataFrame\n",
    "print(titanic_df[['Sex', 'Sex_LabelEncoded', 'Sex_female']])"
   ]
  }
 ],
 "metadata": {
  "kernelspec": {
   "display_name": "Python 3",
   "language": "python",
   "name": "python3"
  },
  "language_info": {
   "codemirror_mode": {
    "name": "ipython",
    "version": 3
   },
   "file_extension": ".py",
   "mimetype": "text/x-python",
   "name": "python",
   "nbconvert_exporter": "python",
   "pygments_lexer": "ipython3",
   "version": "3.10.12"
  }
 },
 "nbformat": 4,
 "nbformat_minor": 2
}
