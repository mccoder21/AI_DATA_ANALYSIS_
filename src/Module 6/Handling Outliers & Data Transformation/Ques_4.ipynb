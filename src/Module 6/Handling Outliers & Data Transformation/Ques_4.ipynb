{
 "cells": [
  {
   "cell_type": "code",
   "execution_count": 1,
   "metadata": {},
   "outputs": [
    {
     "name": "stdout",
     "output_type": "stream",
     "text": [
      "Outlier indices: []\n"
     ]
    }
   ],
   "source": [
    "import numpy as np\n",
    "import pandas as pd\n",
    "from scipy.stats import chi2\n",
    "from numpy.linalg import inv\n",
    "\n",
    "def mahalanobis_distance(x, data, cov_inv):\n",
    "    x_mu = x - np.mean(data, axis=0)\n",
    "    return np.sqrt(x_mu.T @ cov_inv @ x_mu)\n",
    "\n",
    "def detect_multivariate_outliers(data, threshold=0.99):\n",
    "    \"\"\"\n",
    "    Detects multivariate outliers using Mahalanobis distance.\n",
    "\n",
    "    Parameters:\n",
    "        data (DataFrame): A DataFrame with numeric features.\n",
    "        threshold (float): Confidence level (default 0.99 corresponds to 99% confidence region).\n",
    "\n",
    "    Returns:\n",
    "        List[int]: Indices of detected outliers.\n",
    "    \"\"\"\n",
    "    data = data.select_dtypes(include=[np.number])  # Keep numeric columns only\n",
    "    cov_matrix = np.cov(data.values, rowvar=False)\n",
    "    cov_inv = inv(cov_matrix)\n",
    "    distances = []\n",
    "\n",
    "    for i in range(len(data)):\n",
    "        dist = mahalanobis_distance(data.iloc[i].values, data.values, cov_inv)\n",
    "        distances.append(dist)\n",
    "\n",
    "    distances = np.array(distances)\n",
    "    chi2_threshold = np.sqrt(chi2.ppf(threshold, df=data.shape[1]))\n",
    "\n",
    "    outliers = np.where(distances > chi2_threshold)[0]\n",
    "\n",
    "    return outliers.tolist(), distances\n",
    "\n",
    "# Example usage\n",
    "df = pd.DataFrame({\n",
    "    'X': [10, 12, 13, 11, 14, 110],\n",
    "    'Y': [20, 22, 23, 21, 25, 190]\n",
    "})\n",
    "\n",
    "outliers, dists = detect_multivariate_outliers(df)\n",
    "print(\"Outlier indices:\", outliers)"
   ]
  }
 ],
 "metadata": {
  "kernelspec": {
   "display_name": "Python 3",
   "language": "python",
   "name": "python3"
  },
  "language_info": {
   "codemirror_mode": {
    "name": "ipython",
    "version": 3
   },
   "file_extension": ".py",
   "mimetype": "text/x-python",
   "name": "python",
   "nbconvert_exporter": "python",
   "pygments_lexer": "ipython3",
   "version": "3.10.12"
  }
 },
 "nbformat": 4,
 "nbformat_minor": 2
}
