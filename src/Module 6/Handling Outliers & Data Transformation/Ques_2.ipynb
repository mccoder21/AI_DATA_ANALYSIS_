{
 "cells": [
  {
   "cell_type": "code",
   "execution_count": 1,
   "metadata": {},
   "outputs": [
    {
     "name": "stdout",
     "output_type": "stream",
     "text": [
      "Original Data:    [10, 12, 13, 11, 12, 14, 110, 12, 13, 11]\n",
      "Winsorized Data:  [ 10  12  13  11  12  14 110  12  13  11]\n"
     ]
    }
   ],
   "source": [
    "import numpy as np\n",
    "from scipy.stats.mstats import winsorize\n",
    "\n",
    "def apply_winsorization(data, lower_limit=0.05, upper_limit=0.05):\n",
    "    \"\"\"\n",
    "    Applies Winsorization to a dataset.\n",
    "\n",
    "    Parameters:\n",
    "        data (list or array-like): Numerical dataset to Winsorize.\n",
    "        lower_limit (float): Fraction of data to Winsorize from the lower end.\n",
    "        upper_limit (float): Fraction of data to Winsorize from the upper end.\n",
    "\n",
    "    Returns:\n",
    "        numpy.ndarray: Winsorized dataset.\n",
    "    \"\"\"\n",
    "    data = np.array(data)\n",
    "    winsorized_data = winsorize(data, limits=(lower_limit, upper_limit))\n",
    "    return winsorized_data\n",
    "\n",
    "# Example usage\n",
    "dataset = [10, 12, 13, 11, 12, 14, 110, 12, 13, 11]\n",
    "winsorized = apply_winsorization(dataset)\n",
    "print(\"Original Data:   \", dataset)\n",
    "print(\"Winsorized Data: \", winsorized)"
   ]
  }
 ],
 "metadata": {
  "kernelspec": {
   "display_name": "Python 3",
   "language": "python",
   "name": "python3"
  },
  "language_info": {
   "codemirror_mode": {
    "name": "ipython",
    "version": 3
   },
   "file_extension": ".py",
   "mimetype": "text/x-python",
   "name": "python",
   "nbconvert_exporter": "python",
   "pygments_lexer": "ipython3",
   "version": "3.10.12"
  }
 },
 "nbformat": 4,
 "nbformat_minor": 2
}
