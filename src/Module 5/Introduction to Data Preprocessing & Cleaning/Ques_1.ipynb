{
 "cells": [
  {
   "cell_type": "code",
   "execution_count": 1,
   "metadata": {},
   "outputs": [
    {
     "name": "stdout",
     "output_type": "stream",
     "text": [
      "Original DataFrame:\n",
      "      Age   Salary  Experience\n",
      "0    25.0    50000         1.0\n",
      "1    30.0    60000         2.0\n",
      "2     NaN    55000         3.0\n",
      "3    40.0    70000         4.0\n",
      "4   150.0  1000000        50.0\n",
      "5    60.0    75000         6.0\n",
      "6    22.0    80000         1.0\n",
      "7  1000.0   100000       100.0\n",
      "8    30.0    60000         NaN\n",
      "9    25.0    50000         2.0\n",
      "\n",
      "Cleaned DataFrame:\n",
      "          Age    Salary  Experience\n",
      "0   25.000000   50000.0    1.000000\n",
      "1   30.000000   60000.0    2.000000\n",
      "2  153.555556   55000.0    3.000000\n",
      "3   40.000000   70000.0    4.000000\n",
      "4  150.000000   65000.0    3.500000\n",
      "5   60.000000   75000.0    6.000000\n",
      "6   22.000000   80000.0    1.000000\n",
      "7   35.000000  100000.0    3.500000\n",
      "8   30.000000   60000.0   18.777778\n",
      "9   25.000000   50000.0    2.000000\n"
     ]
    }
   ],
   "source": [
    "import pandas as pd\n",
    "import numpy as np\n",
    "\n",
    "# Sample dataset with missing values, duplicates, and outliers\n",
    "data = {\n",
    "    'Age': [25, 30, np.nan, 40, 150, 60, 22, 1000, 30, 25],\n",
    "    'Salary': [50000, 60000, 55000, 70000, 1000000, 75000, 80000, 100000, 60000, 50000],\n",
    "    'Experience': [1, 2, 3, 4, 50, 6, 1, 100, np.nan, 2]\n",
    "}\n",
    "\n",
    "# Convert the dictionary into a pandas DataFrame\n",
    "df = pd.DataFrame(data)\n",
    "\n",
    "# Display the original dataset\n",
    "print(\"Original DataFrame:\")\n",
    "print(df)\n",
    "\n",
    "# Step 1: Handle Missing Values\n",
    "def handle_missing_values(df):\n",
    "    # Fill numeric columns with the mean\n",
    "    df['Age'] = df['Age'].fillna(df['Age'].mean())\n",
    "    df['Experience'] = df['Experience'].fillna(df['Experience'].mean())\n",
    "    \n",
    "    # Fill categorical columns (if any) with the mode (not applicable here)\n",
    "    # Example: df['Column_Name'] = df['Column_Name'].fillna(df['Column_Name'].mode()[0])\n",
    "    \n",
    "    return df\n",
    "\n",
    "# Step 2: Remove Duplicates\n",
    "def remove_duplicates(df):\n",
    "    df = df.drop_duplicates()  # Remove duplicate rows based on all columns\n",
    "    return df\n",
    "\n",
    "# Step 3: Handle Outliers using IQR method\n",
    "def handle_outliers(df):\n",
    "    for column in df.select_dtypes(include=[np.number]).columns:  # Process only numeric columns\n",
    "        # Calculate Q1 (25th percentile) and Q3 (75th percentile)\n",
    "        Q1 = df[column].quantile(0.25)\n",
    "        Q3 = df[column].quantile(0.75)\n",
    "        \n",
    "        # Calculate the IQR\n",
    "        IQR = Q3 - Q1\n",
    "        \n",
    "        # Calculate the lower and upper bounds\n",
    "        lower_bound = Q1 - 1.5 * IQR\n",
    "        upper_bound = Q3 + 1.5 * IQR\n",
    "        \n",
    "        # Replace outliers with the median of the respective column\n",
    "        df[column] = df[column].apply(lambda x: df[column].median() if x < lower_bound or x > upper_bound else x)\n",
    "    \n",
    "    return df\n",
    "\n",
    "# Step 4: Apply all data cleaning steps\n",
    "def clean_data(df):\n",
    "    # Handle missing values\n",
    "    df = handle_missing_values(df)\n",
    "    \n",
    "    # Remove duplicates\n",
    "    df = remove_duplicates(df)\n",
    "    \n",
    "    # Handle outliers\n",
    "    df = handle_outliers(df)\n",
    "    \n",
    "    return df\n",
    "\n",
    "# Clean the dataset\n",
    "cleaned_df = clean_data(df)\n",
    "\n",
    "# Display the cleaned dataset\n",
    "print(\"\\nCleaned DataFrame:\")\n",
    "print(cleaned_df)"
   ]
  },
  {
   "cell_type": "code",
   "execution_count": null,
   "metadata": {},
   "outputs": [],
   "source": [
    "# Question: Data Transformation Techniques\n",
    "# Objective: Transform skewed data using log transformation.\n",
    "# Description: Perform a log transformation to handle skewness in a dataset, which is particularly useful for\n",
    "# certain machine learning models.\n",
    "\n"
   ]
  },
  {
   "cell_type": "code",
   "execution_count": null,
   "metadata": {},
   "outputs": [],
   "source": [
    "# Question: Feature Engineering by Creating New Features\n",
    "# Objective: Create a new feature based on existing features to add predictive power.\n",
    "# Description: Generate additional features from existing data to potentially improve the performance of\n",
    "# prediction models.\n",
    "\n",
    "\n"
   ]
  },
  {
   "cell_type": "code",
   "execution_count": null,
   "metadata": {},
   "outputs": [],
   "source": [
    "# Question: Handling Complex Outliers with Z-Scores\n",
    "# Objective: Detect and handle outliers using Z-score method.\n",
    "# Description: Use the Z-score method to identify outliers which significantly differ from the rest of the data points.\n",
    "\n",
    "\n"
   ]
  },
  {
   "cell_type": "code",
   "execution_count": null,
   "metadata": {},
   "outputs": [],
   "source": [
    "# Question: Data Imputation with K-Nearest Neighbors (KNN)\n",
    "# Objective: Impute missing numerical values using the KNN method.\n",
    "# Description: Use the K-nearest neighbors algorithm to fill in missing values, which considers the values of\n",
    "# nearest neighbors for imputation.\n",
    "\n",
    "\n"
   ]
  }
 ],
 "metadata": {
  "kernelspec": {
   "display_name": "Python 3",
   "language": "python",
   "name": "python3"
  },
  "language_info": {
   "codemirror_mode": {
    "name": "ipython",
    "version": 3
   },
   "file_extension": ".py",
   "mimetype": "text/x-python",
   "name": "python",
   "nbconvert_exporter": "python",
   "pygments_lexer": "ipython3",
   "version": "3.10.12"
  }
 },
 "nbformat": 4,
 "nbformat_minor": 2
}
