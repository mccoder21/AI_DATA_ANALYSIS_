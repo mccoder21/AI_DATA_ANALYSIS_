{
 "cells": [
  {
   "cell_type": "code",
   "execution_count": null,
   "metadata": {},
   "outputs": [],
   "source": [
    "import pandas as pd\n",
    "\n",
    "# Task 1: Remove Duplicates\n",
    "# 1. Load Extended Data\n",
    "df = pd.read_csv('extended_data.csv')  # Replace with your file path\n",
    "\n",
    "# 2. Remove Duplicates\n",
    "df = df.drop_duplicates()\n",
    "print(\"Data after removing duplicates:\")\n",
    "print(df)\n",
    "\n",
    "# Task 2: Fix Data Types\n",
    "# 1. Fix Incorrect Data Types (example: converting string numbers to numeric)\n",
    "df['column_name'] = pd.to_numeric(df['column_name'], errors='coerce')  # Replace 'column_name'\n",
    "\n",
    "# Task 3: Convert Data Type for Analysis\n",
    "# 1. Convert Date Strings to DateTime\n",
    "df['date_column'] = pd.to_datetime(df['date_column'], errors='coerce')  # Replace 'date_column'\n",
    "\n",
    "print(\"\\nData after fixing data types:\")\n",
    "print(df.dtypes)"
   ]
  }
 ],
 "metadata": {
  "kernelspec": {
   "display_name": "Python 3",
   "language": "python",
   "name": "python3"
  },
  "language_info": {
   "codemirror_mode": {
    "name": "ipython",
    "version": 3
   },
   "file_extension": ".py",
   "mimetype": "text/x-python",
   "name": "python",
   "nbconvert_exporter": "python",
   "pygments_lexer": "ipython3",
   "version": "3.10.12"
  }
 },
 "nbformat": 4,
 "nbformat_minor": 2
}
