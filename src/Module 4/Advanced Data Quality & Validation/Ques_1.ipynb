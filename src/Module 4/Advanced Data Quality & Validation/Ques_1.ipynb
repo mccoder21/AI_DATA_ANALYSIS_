{
 "cells": [
  {
   "cell_type": "code",
   "execution_count": 1,
   "metadata": {},
   "outputs": [
    {
     "data": {
      "text/plain": [
       "(22.0908120572822,\n",
       " 22.332727843625243,\n",
       " {'mean': 48.96153482605907, 'std': 9.036161766446297},\n",
       " {'mean': 60.97344379650673, 'std': 16.182717693681113},\n",
       " True,\n",
       " False,\n",
       " True,\n",
       " (0.46, 6.422179651064002e-10))"
      ]
     },
     "execution_count": 1,
     "metadata": {},
     "output_type": "execute_result"
    }
   ],
   "source": [
    "import numpy as np\n",
    "import pandas as pd\n",
    "from sklearn.linear_model import LinearRegression\n",
    "from sklearn.metrics import mean_squared_error\n",
    "from scipy.stats import ks_2samp\n",
    "\n",
    "# --- 1. Train a model on the original data ---\n",
    "np.random.seed(42)\n",
    "X_orig = np.random.normal(loc=50, scale=10, size=(100, 1))\n",
    "y_orig = 2 * X_orig.flatten() + np.random.normal(scale=5, size=100)\n",
    "model = LinearRegression().fit(X_orig, y_orig)\n",
    "y_pred_orig = model.predict(X_orig)\n",
    "mse_orig = mean_squared_error(y_orig, y_pred_orig)\n",
    "\n",
    "# --- 2. Evaluate on the drifted data ---\n",
    "X_drift = np.random.normal(loc=60, scale=15, size=(100, 1))  # Drifted distribution\n",
    "y_drift = 2 * X_drift.flatten() + np.random.normal(scale=5, size=100)\n",
    "y_pred_drift = model.predict(X_drift)\n",
    "mse_drift = mean_squared_error(y_drift, y_pred_drift)\n",
    "\n",
    "# --- 3. Monitor feature statistics ---a\n",
    "orig_stats = {\"mean\": X_orig.mean(), \"std\": X_orig.std()}\n",
    "drift_stats = {\"mean\": X_drift.mean(), \"std\": X_drift.std()}\n",
    "drift_detected = abs(orig_stats[\"mean\"] - drift_stats[\"mean\"]) > 5  # example threshold\n",
    "\n",
    "# --- 4. Automating basic data quality checks ---\n",
    "df = pd.DataFrame({\"id\": [1, 2, 2], \"name\": [\"Alice\", \"Bob\", \"Bob\"]})\n",
    "primary_key_unique = df[\"id\"].is_unique\n",
    "no_missing_values = df.notnull().all().all()\n",
    "\n",
    "# --- 5. Kolmogorov-Smirnov test for drift detection ---\n",
    "ks_stat, ks_pvalue = ks_2samp(X_orig.flatten(), X_drift.flatten())\n",
    "\n",
    "mse_orig, mse_drift, orig_stats, drift_stats, drift_detected, primary_key_unique, no_missing_values, (ks_stat, ks_pvalue)"
   ]
  },
  {
   "cell_type": "code",
   "execution_count": null,
   "metadata": {},
   "outputs": [],
   "source": [
    "# Monitoring Data Distribution Changes\n",
    "# Question: Use Python to monitor distribution changes in features to detect potential data drift.\n",
    "\n",
    "# 1. Calculate feature statistics (mean and standard deviation) for both original and drifted data:\n",
    "# 2. Compare statistics:\n",
    "# 3. Set thresholds to detect significant drift:\n",
    "\n",
    "\n"
   ]
  },
  {
   "cell_type": "code",
   "execution_count": null,
   "metadata": {},
   "outputs": [],
   "source": [
    "# Automating Data Quality Checks with Python\n",
    "# Question: Automate a basic data validation process using Python to ensure the dataset's\n",
    "# structural integrity.\n",
    "\n",
    "# 1. Define validation checks:\n",
    "# 2. Apply validation:\n",
    "\n",
    "\n"
   ]
  },
  {
   "cell_type": "code",
   "execution_count": null,
   "metadata": {},
   "outputs": [],
   "source": [
    "# Introducing Great Expectations for Data Validation\n",
    "# Question: Use Great Expectations to set up data validation checks for a dataset.\n",
    "\n",
    "# 1. Install Great Expectations:\n",
    "# 2. Create a new expectations suite:\n",
    "# 3. Load data and generate expectations:\n",
    "\n",
    "\n"
   ]
  },
  {
   "cell_type": "code",
   "execution_count": null,
   "metadata": {},
   "outputs": [],
   "source": [
    "# Automating Constraint Checks with Python\n",
    "# Question: Automate primary key and foreign key constraint checks using Python to ensure dataset compliance.\n",
    "\n",
    "\n",
    "# 1. Assuming datasets exist with primary and foreign key relationships in pandas dataframes employees_df and departments_df :\n",
    "\n",
    "\n"
   ]
  },
  {
   "cell_type": "code",
   "execution_count": null,
   "metadata": {},
   "outputs": [],
   "source": [
    "# Advanced Data Drift Detection using Statistical Tests\n",
    "# Question: Implement Kolmogorov-Smirnov test using Python to detect data drift at a more sophisticated level.\n",
    "\n",
    "# 1. Use SciPy to perform KS test:\n",
    "\n",
    "\n"
   ]
  }
 ],
 "metadata": {
  "kernelspec": {
   "display_name": "Python 3",
   "language": "python",
   "name": "python3"
  },
  "language_info": {
   "codemirror_mode": {
    "name": "ipython",
    "version": 3
   },
   "file_extension": ".py",
   "mimetype": "text/x-python",
   "name": "python",
   "nbconvert_exporter": "python",
   "pygments_lexer": "ipython3",
   "version": "3.10.12"
  }
 },
 "nbformat": 4,
 "nbformat_minor": 2
}
