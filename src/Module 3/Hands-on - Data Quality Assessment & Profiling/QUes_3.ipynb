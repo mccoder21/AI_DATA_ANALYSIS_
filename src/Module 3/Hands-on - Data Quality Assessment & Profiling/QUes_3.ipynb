{
 "cells": [
  {
   "cell_type": "code",
   "execution_count": 1,
   "metadata": {},
   "outputs": [
    {
     "name": "stdout",
     "output_type": "stream",
     "text": [
      "Missing values in the Iris dataset:\n",
      "sepal length (cm)    0\n",
      "sepal width (cm)     0\n",
      "petal length (cm)    0\n",
      "petal width (cm)     0\n",
      "dtype: int64\n",
      "\n",
      "Inconsistent Entries in the 'Gender' Column:\n",
      "Gender\n",
      "M         2\n",
      "Male      2\n",
      "female    2\n",
      "F         1\n",
      "m         1\n",
      "Name: count, dtype: int64\n",
      "\n",
      "Basic Descriptive Statistics for the Iris Dataset:\n",
      "       sepal length (cm)  sepal width (cm)  petal length (cm)  \\\n",
      "count         150.000000        150.000000         150.000000   \n",
      "mean            5.843333          3.057333           3.758000   \n",
      "std             0.828066          0.435866           1.765298   \n",
      "min             4.300000          2.000000           1.000000   \n",
      "25%             5.100000          2.800000           1.600000   \n",
      "50%             5.800000          3.000000           4.350000   \n",
      "75%             6.400000          3.300000           5.100000   \n",
      "max             7.900000          4.400000           6.900000   \n",
      "\n",
      "       petal width (cm)  \n",
      "count        150.000000  \n",
      "mean           1.199333  \n",
      "std            0.762238  \n",
      "min            0.100000  \n",
      "25%            0.300000  \n",
      "50%            1.300000  \n",
      "75%            1.800000  \n",
      "max            2.500000  \n"
     ]
    }
   ],
   "source": [
    "import pandas as pd\n",
    "from sklearn.datasets import load_iris\n",
    "\n",
    "# Part 1: Load the Iris Dataset & Check Missing Values\n",
    "# Load the Iris dataset using sklearn and convert it into a DataFrame\n",
    "iris = load_iris()\n",
    "df = pd.DataFrame(iris.data, columns=iris.feature_names)\n",
    "\n",
    "# Check for missing values in the entire dataset\n",
    "missing_values = df.isnull().sum()\n",
    "\n",
    "# Print missing values per column\n",
    "print(\"Missing values in the Iris dataset:\")\n",
    "print(missing_values)\n",
    "\n",
    "# Part 2: Identify Duplicates & Inconsistencies\n",
    "# Sample dataset with a 'Gender' column (assuming this dataset)\n",
    "sample_data = {\n",
    "    'Gender': ['M', 'Male', 'female', 'Male', 'F', 'M', 'female', 'm']\n",
    "}\n",
    "sample_df = pd.DataFrame(sample_data)\n",
    "\n",
    "# Check for inconsistent entries in the 'Gender' column\n",
    "gender_inconsistencies = sample_df['Gender'].value_counts()\n",
    "\n",
    "# Print the distribution of 'Gender' to identify inconsistencies\n",
    "print(\"\\nInconsistent Entries in the 'Gender' Column:\")\n",
    "print(gender_inconsistencies)\n",
    "\n",
    "# Part 3: Generate a Data Quality Report\n",
    "# Generate basic descriptive statistics for the Iris dataset\n",
    "numerical_stats = df.describe()\n",
    "\n",
    "# Print the basic descriptive statistics for the Iris dataset\n",
    "print(\"\\nBasic Descriptive Statistics for the Iris Dataset:\")\n",
    "print(numerical_stats)"
   ]
  }
 ],
 "metadata": {
  "kernelspec": {
   "display_name": "Python 3",
   "language": "python",
   "name": "python3"
  },
  "language_info": {
   "codemirror_mode": {
    "name": "ipython",
    "version": 3
   },
   "file_extension": ".py",
   "mimetype": "text/x-python",
   "name": "python",
   "nbconvert_exporter": "python",
   "pygments_lexer": "ipython3",
   "version": "3.10.12"
  }
 },
 "nbformat": 4,
 "nbformat_minor": 2
}
