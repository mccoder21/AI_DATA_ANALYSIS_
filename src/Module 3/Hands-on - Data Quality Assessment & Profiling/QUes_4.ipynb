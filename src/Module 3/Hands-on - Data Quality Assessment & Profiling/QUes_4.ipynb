{
 "cells": [
  {
   "cell_type": "code",
   "execution_count": 1,
   "metadata": {},
   "outputs": [
    {
     "name": "stdout",
     "output_type": "stream",
     "text": [
      "Missing values in 'Email' and 'Phone' columns:\n",
      "Email    1\n",
      "Phone    1\n",
      "dtype: int64\n",
      "\n",
      "Duplicate Emails in the Customer Dataset:\n",
      "   CustomerID                 Email\n",
      "0           1  john.doe@example.com\n",
      "4           5  john.doe@example.com\n",
      "\n",
      "Data Quality Report for Customer Dataset:\n",
      "-------------------------------------------------\n",
      "Missing Values:\n",
      "Email    1\n",
      "Phone    1\n",
      "dtype: int64\n",
      "\n",
      "Number of Duplicate Emails: 1\n"
     ]
    }
   ],
   "source": [
    "import pandas as pd\n",
    "\n",
    "# Part 1: Load a Dataset & Check Missing Values\n",
    "# Simulate the 'customer_data.csv' dataset as an example\n",
    "data = {\n",
    "    'CustomerID': [1, 2, 3, 4, 5],\n",
    "    'Email': ['john.doe@example.com', 'jane.smith@example.com', None, 'alice.jones@example.com', 'john.doe@example.com'],\n",
    "    'Phone': ['1234567890', None, '2345678901', '3456789012', '1234567890'],\n",
    "    'Name': ['John Doe', 'Jane Smith', 'Mike Taylor', 'Alice Jones', 'John Doe']\n",
    "}\n",
    "df = pd.DataFrame(data)\n",
    "\n",
    "# Find any missing values in specific columns like 'Email' and 'Phone'\n",
    "missing_values = df[['Email', 'Phone']].isnull().sum()\n",
    "\n",
    "# Print missing values for the 'Email' and 'Phone' columns\n",
    "print(\"Missing values in 'Email' and 'Phone' columns:\")\n",
    "print(missing_values)\n",
    "\n",
    "# Part 2: Identify Duplicates & Inconsistencies\n",
    "# Identify duplicate emails which might indicate duplicate customer records\n",
    "duplicate_emails = df[df.duplicated(subset=['Email'], keep=False)]\n",
    "\n",
    "# Print duplicate emails (if any)\n",
    "print(\"\\nDuplicate Emails in the Customer Dataset:\")\n",
    "print(duplicate_emails[['CustomerID', 'Email']])\n",
    "\n",
    "# Part 3: Generate a Data Quality Report\n",
    "# 1. Missing Values Summary for 'Email' and 'Phone'\n",
    "missing_values_summary = df[['Email', 'Phone']].isnull().sum()\n",
    "\n",
    "# 2. Number of Duplicate Emails\n",
    "duplicate_email_count = df.duplicated(subset=['Email']).sum()\n",
    "\n",
    "# 3. Data Quality Summary (Customer Dataset)\n",
    "report = {\n",
    "    \"Missing Values\": missing_values_summary,\n",
    "    \"Duplicate Emails\": duplicate_email_count\n",
    "}\n",
    "\n",
    "# Print the Data Quality Report\n",
    "print(\"\\nData Quality Report for Customer Dataset:\")\n",
    "print(\"-------------------------------------------------\")\n",
    "print(\"Missing Values:\")\n",
    "print(report[\"Missing Values\"])\n",
    "print(\"\\nNumber of Duplicate Emails:\", report[\"Duplicate Emails\"])"
   ]
  }
 ],
 "metadata": {
  "kernelspec": {
   "display_name": "Python 3",
   "language": "python",
   "name": "python3"
  },
  "language_info": {
   "codemirror_mode": {
    "name": "ipython",
    "version": 3
   },
   "file_extension": ".py",
   "mimetype": "text/x-python",
   "name": "python",
   "nbconvert_exporter": "python",
   "pygments_lexer": "ipython3",
   "version": "3.10.12"
  }
 },
 "nbformat": 4,
 "nbformat_minor": 2
}
