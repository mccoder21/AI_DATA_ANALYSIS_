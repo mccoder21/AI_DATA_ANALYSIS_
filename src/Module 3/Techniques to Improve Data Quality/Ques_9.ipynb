{
 "cells": [
  {
   "cell_type": "code",
   "execution_count": 2,
   "metadata": {},
   "outputs": [
    {
     "name": "stdout",
     "output_type": "stream",
     "text": [
      "   id  age  hours_studied      score\n",
      "0   1   22            3.0  85.000000\n",
      "1   2   25            4.0  87.076471\n",
      "2   3   30            5.0  90.000000\n",
      "3   4   24            3.5  88.000000\n",
      "4   5   26            4.2  87.521176\n",
      "5   6   28            4.5  87.000000\n",
      "6   7   29            5.0  88.876471\n"
     ]
    }
   ],
   "source": [
    "import pandas as pd\n",
    "from sklearn.linear_model import LinearRegression\n",
    "from sklearn.model_selection import train_test_split\n",
    "\n",
    "# Step 1: Sample data with missing 'score' values\n",
    "data = {\n",
    "    'id': [1, 2, 3, 4, 5, 6, 7],\n",
    "    'age': [22, 25, 30, 24, 26, 28, 29],\n",
    "    'hours_studied': [3, 4, 5, 3.5, 4.2, 4.5, 5],\n",
    "    'score': [85, None, 90, 88, None, 87, None]\n",
    "}\n",
    "\n",
    "df = pd.DataFrame(data)\n",
    "\n",
    "# Step 2: Split data into rows with and without missing 'score'\n",
    "df_missing = df[df['score'].isnull()]\n",
    "df_not_missing = df[df['score'].notnull()]\n",
    "\n",
    "# Step 3: Train a model on rows with known 'score' values\n",
    "X = df_not_missing[['age', 'hours_studied']]\n",
    "y = df_not_missing['score']\n",
    "\n",
    "model = LinearRegression()\n",
    "model.fit(X, y)\n",
    "\n",
    "# Step 4: Predict missing 'score' values\n",
    "X_missing = df_missing[['age', 'hours_studied']]\n",
    "predicted_scores = model.predict(X_missing)\n",
    "\n",
    "# Step 5: Fill in missing values\n",
    "df.loc[df['score'].isnull(), 'score'] = predicted_scores\n",
    "\n",
    "# Step 6: Final output\n",
    "print(df)"
   ]
  }
 ],
 "metadata": {
  "kernelspec": {
   "display_name": "Python 3",
   "language": "python",
   "name": "python3"
  },
  "language_info": {
   "codemirror_mode": {
    "name": "ipython",
    "version": 3
   },
   "file_extension": ".py",
   "mimetype": "text/x-python",
   "name": "python",
   "nbconvert_exporter": "python",
   "pygments_lexer": "ipython3",
   "version": "3.10.12"
  }
 },
 "nbformat": 4,
 "nbformat_minor": 2
}
