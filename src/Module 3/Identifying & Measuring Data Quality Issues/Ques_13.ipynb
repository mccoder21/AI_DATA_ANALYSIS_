{
 "cells": [
  {
   "cell_type": "code",
   "execution_count": 1,
   "metadata": {},
   "outputs": [
    {
     "name": "stdout",
     "output_type": "stream",
     "text": [
      "Completeness (Percentage of Non-Missing Values):\n",
      " name       88.888889\n",
      "age        88.888889\n",
      "salary     88.888889\n",
      "city      100.000000\n",
      "dtype: float64\n",
      "\n",
      "Number of Duplicate Rows: 0\n",
      "\n",
      "Invalid salary entries: 2\n",
      "\n",
      "Data Types:\n",
      " name       object\n",
      "age       float64\n",
      "salary    float64\n",
      "city       object\n",
      "dtype: object\n",
      "\n",
      "Data Quality Score: 66.67\n",
      "\n",
      "Descriptive Statistics of Numeric Columns:\n",
      "               age        salary\n",
      "count    8.000000      7.000000\n",
      "mean    52.125000  61142.857143\n",
      "std     59.927188   7581.305328\n",
      "min     25.000000  50000.000000\n",
      "25%     28.750000  56500.000000\n",
      "50%     30.000000  60000.000000\n",
      "75%     36.250000  67500.000000\n",
      "max    200.000000  70000.000000\n"
     ]
    },
    {
     "data": {
      "image/png": "[encoded data removed]",
      "text/plain": [
       "<Figure size 1000x600 with 1 Axes>"
      ]
     },
     "metadata": {},
     "output_type": "display_data"
    }
   ],
   "source": [
    "# Import necessary libraries\n",
    "import pandas as pd\n",
    "import numpy as np\n",
    "\n",
    "# Sample dataset\n",
    "data = {\n",
    "    'name': ['Alice', 'Bob', 'Charlie', 'David', 'Eve', None, 'Frank', 'Grace', 'Alice'],\n",
    "    'age': [25, 30, 35, 40, 28, np.nan, 29, 200, 30],  # Some unrealistic age values\n",
    "    'salary': [50000, 55000, None, 58000, 'Unknown', 60000, 65000, 70000, 70000],  # Invalid salary\n",
    "    'city': ['New York', 'Los Angeles', 'Chicago', 'Houston', 'Phoenix', 'Philadelphia', 'Chicago', 'Phoenix', 'Los Angeles']\n",
    "}\n",
    "df = pd.DataFrame(data)\n",
    "\n",
    "# 1. Completeness: Calculate the percentage of non-missing values\n",
    "def completeness(df):\n",
    "    return df.notnull().mean() * 100\n",
    "\n",
    "completeness_df = completeness(df)\n",
    "print(\"Completeness (Percentage of Non-Missing Values):\\n\", completeness_df)\n",
    "\n",
    "# 2. Consistency: Check for duplicates in the dataset\n",
    "duplicates = df.duplicated().sum()\n",
    "print(f\"\\nNumber of Duplicate Rows: {duplicates}\")\n",
    "\n",
    "# 3. Validity: Check for valid numeric values in 'salary' and 'age' (ensure 'salary' is numeric)\n",
    "df['salary'] = pd.to_numeric(df['salary'], errors='coerce')  # Convert invalid 'salary' values to NaN\n",
    "invalid_salary = df['salary'].isnull().sum()\n",
    "print(f\"\\nInvalid salary entries: {invalid_salary}\")\n",
    "\n",
    "# 4. Data Types: Check if columns have appropriate data types\n",
    "print(\"\\nData Types:\\n\", df.dtypes)\n",
    "\n",
    "# 5. Scoring system: Based on Completeness, Duplicates, and Invalid Values\n",
    "def data_quality_score(df):\n",
    "    completeness_score = df.notnull().mean().mean()  # Overall completeness score (mean of all columns)\n",
    "    duplicates_penalty = df.duplicated().sum() / len(df)  # Duplicate penalty (proportion of duplicate rows)\n",
    "    invalid_values_penalty = df['salary'].isnull().sum() / len(df)  # Invalid salary penalty\n",
    "\n",
    "    # Score calculation\n",
    "    score = (completeness_score - duplicates_penalty - invalid_values_penalty) * 100  # Normalize to 100 scale\n",
    "    return score\n",
    "\n",
    "# Get the overall data quality score\n",
    "score = data_quality_score(df)\n",
    "print(f\"\\nData Quality Score: {score:.2f}\")\n",
    "\n",
    "# 6. Descriptive statistics of numeric columns\n",
    "print(\"\\nDescriptive Statistics of Numeric Columns:\\n\", df.describe())\n",
    "\n",
    "# 7. Histogram to visualize distributions (optional)\n",
    "import matplotlib.pyplot as plt\n",
    "import seaborn as sns\n",
    "\n",
    "plt.figure(figsize=(10, 6))\n",
    "sns.histplot(df['age'], kde=True, color='blue')\n",
    "plt.title('Age Distribution')\n",
    "plt.show()"
   ]
  }
 ],
 "metadata": {
  "kernelspec": {
   "display_name": "Python 3",
   "language": "python",
   "name": "python3"
  },
  "language_info": {
   "codemirror_mode": {
    "name": "ipython",
    "version": 3
   },
   "file_extension": ".py",
   "mimetype": "text/x-python",
   "name": "python",
   "nbconvert_exporter": "python",
   "pygments_lexer": "ipython3",
   "version": "3.10.12"
  }
 },
 "nbformat": 4,
 "nbformat_minor": 2
}
